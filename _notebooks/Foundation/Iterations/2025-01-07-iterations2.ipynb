{
 "cells": [
  {
   "cell_type": "markdown",
   "metadata": {},
   "source": [
    "---\n",
    "comments: True\n",
    "layout: post\n",
    "title: Iteration Lesson No.2\n",
    "description: An intro to Iterations\n",
    "permalink: /csse/javascript/fundamentals/iteration/2\n",
    "categories: [CSSE JavaScript Fundamentals]\n",
    "author: Andrew Ge, Ishan Shrivastava, Pratheep Natarajan, and Ruhaan Bansal\n",
    "---  "
   ]
  },
  {
   "cell_type": "markdown",
   "metadata": {},
   "source": [
    "## The Break Statement\n",
    "\n",
    "<li> We use it to terminate a loop/switch\n",
    "\n",
    "<br>"
   ]
  },
  {
   "cell_type": "code",
   "execution_count": 3,
   "metadata": {
    "vscode": {
     "languageId": "javascript"
    }
   },
   "outputs": [
    {
     "data": {
      "application/javascript": "\nfor (let i = 0; i < 10; i++) {\n  if (i == 6) {\n    break;\n  }\n  console.log(i);\n}\n",
      "text/plain": [
       "<IPython.core.display.Javascript object>"
      ]
     },
     "metadata": {},
     "output_type": "display_data"
    }
   ],
   "source": [
    "%%js\n",
    "\n",
    "for (let i = 0; i < 10; i++) {\n",
    "  if (i == 6) {\n",
    "    break;\n",
    "  }\n",
    "  console.log(i);\n",
    "}\n"
   ]
  },
  {
   "cell_type": "markdown",
   "metadata": {},
   "source": [
    "<br>\n",
    "### Output\n",
    "0 <br>\n",
    "1 <br>\n",
    "2 <br>\n",
    "3 <br>\n",
    "4 <br>\n",
    "5 <br>\n",
    "\n",
    "When i = 6, the break statement is run, and it ends the loop early"
   ]
  },
  {
   "cell_type": "markdown",
   "metadata": {},
   "source": [
    "## Continue Statement\n",
    "\n",
    "used to restart a while or for loop\n",
    "<li>when used,  ends the current iteration, and continues the next iteration"
   ]
  },
  {
   "cell_type": "code",
   "execution_count": 7,
   "metadata": {
    "vscode": {
     "languageId": "javascript"
    }
   },
   "outputs": [
    {
     "data": {
      "application/javascript": "for (let i = 0; i < 10; i++) {\n    if (i == 6) {\n      continue;\n    }\n    console.log(i);\n  }\n",
      "text/plain": [
       "<IPython.core.display.Javascript object>"
      ]
     },
     "metadata": {},
     "output_type": "display_data"
    }
   ],
   "source": [
    "%%js\n",
    "for (let i = 0; i < 10; i++) {\n",
    "    if (i == 6) {\n",
    "      continue;\n",
    "    }\n",
    "    console.log(i);\n",
    "  }"
   ]
  },
  {
   "cell_type": "markdown",
   "metadata": {},
   "source": [
    "### Output\n",
    "0<br>\n",
    "1<br>\n",
    "2<br>\n",
    "3<br>\n",
    "4<br>\n",
    "5<br>\n",
    "7<br>\n",
    "8<br>\n",
    "9<br>\n",
    "\n",
    "Notice how it skips 6 and continues the loop\n"
   ]
  },
  {
   "cell_type": "markdown",
   "metadata": {},
   "source": [
    "## For each loops\n",
    "\n",
    "We did this in the previous lesson\n",
    "loop through an array"
   ]
  },
  {
   "cell_type": "code",
   "execution_count": 8,
   "metadata": {
    "vscode": {
     "languageId": "javascript"
    }
   },
   "outputs": [
    {
     "data": {
      "application/javascript": "const colors = ['red','blue','yellow','green','black'];\n\nfor (let i = 0; i < colors.length; i++){\n    console.log(colors[i]); \n}\n",
      "text/plain": [
       "<IPython.core.display.Javascript object>"
      ]
     },
     "metadata": {},
     "output_type": "display_data"
    }
   ],
   "source": [
    "%%js\n",
    "const colors = ['red','blue','yellow','green','black'];\n",
    "\n",
    "for (let i = 0; i < colors.length; i++){\n",
    "    console.log(colors[i]); \n",
    "}"
   ]
  },
  {
   "cell_type": "markdown",
   "metadata": {},
   "source": [
    "There is a different way to do this"
   ]
  },
  {
   "cell_type": "code",
   "execution_count": 9,
   "metadata": {
    "vscode": {
     "languageId": "javascript"
    }
   },
   "outputs": [
    {
     "data": {
      "application/javascript": "const colors = ['red','blue','yellow','green','black'];\n\n//color = i\nfor (let color of colors) { //checks each element in the list\n    console.log(color); //prints each color\n}\n",
      "text/plain": [
       "<IPython.core.display.Javascript object>"
      ]
     },
     "metadata": {},
     "output_type": "display_data"
    }
   ],
   "source": [
    "%%js\n",
    "const colors = ['red','blue','yellow','green','black'];\n",
    "\n",
    "//color = i\n",
    "for (let color of colors) { //checks each element in the list\n",
    "    console.log(color); //prints each color\n",
    "}"
   ]
  },
  {
   "cell_type": "markdown",
   "metadata": {},
   "source": [
    "These blocks of code both have the same output \n",
    "\n",
    "### Output\n",
    "red <br>\n",
    "blue <br>\n",
    "yellow <br>\n",
    "green <br>\n",
    "black <br>"
   ]
  }
 ],
 "metadata": {
  "kernelspec": {
   "display_name": "Python 3",
   "language": "python",
   "name": "python3"
  },
  "language_info": {
   "codemirror_mode": {
    "name": "ipython",
    "version": 3
   },
   "file_extension": ".py",
   "mimetype": "text/x-python",
   "name": "python",
   "nbconvert_exporter": "python",
   "pygments_lexer": "ipython3",
   "version": "3.11.9"
  }
 },
 "nbformat": 4,
 "nbformat_minor": 2
}
