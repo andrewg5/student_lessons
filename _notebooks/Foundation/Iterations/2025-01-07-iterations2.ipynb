{
 "cells": [
  {
   "cell_type": "markdown",
   "metadata": {
    "vscode": {
     "languageId": "plaintext"
    }
   },
   "source": [
    "---\n",
    "comments: True\n",
    "layout: post\n",
    "title: Iteration Lesson No.2\n",
    "description: An intro to Iterations\n",
    "permalink: /csse/javascript/fundamentals/iteration/2\n",
    "categories: [CSSE JavaScript Fundamentals]\n",
    "author: Andrew Ge, Ishan Shrivastava, Pratheep Natarajan, and Ruhaan Bansal\n",
    "---  "
   ]
  },
  {
   "cell_type": "markdown",
   "metadata": {},
   "source": [
    "# Intro to iterations\n",
    "\n",
    "### The Break Statement\n",
    "    > We use it to terminate a loop/switch\n",
    "\n"
   ]
  },
  {
   "cell_type": "markdown",
   "metadata": {},
   "source": [
    "### Output\n",
    "\n",
    "    0\n",
    "\n",
    "    1\n",
    "\n",
    "    2\n",
    "\n",
    "    3\n",
    "\n",
    "    4\n",
    "\n",
    "    5\n",
    "\n",
    "    > When i = 6, the break statement is run, and it ends the loop early"
   ]
  },
  {
   "cell_type": "code",
   "execution_count": 1,
   "metadata": {
    "vscode": {
     "languageId": "javascript"
    }
   },
   "outputs": [],
   "source": [
    "%%js\n",
    "\n",
    "for (let i = 0; i < 10; i++) {\n",
    "  if (i == 6) {\n",
    "    break;\n",
    "  }\n",
    "  console.log(i);\n",
    "}\n"
   ]
  },
  {
   "cell_type": "markdown",
   "metadata": {},
   "source": [
    "## Continue Statement\n",
    "\n",
    "    > used to restart a while or for loop\n",
    "    > when used,  ends the current iteration, and continues the next iteration"
   ]
  },
  {
   "cell_type": "markdown",
   "metadata": {},
   "source": [
    "### Output\n",
    "\n",
    "    0\n",
    "\n",
    "    1\n",
    "\n",
    "    2\n",
    "\n",
    "    3\n",
    "\n",
    "    4\n",
    "\n",
    "    5\n",
    "\n",
    "    7\n",
    "\n",
    "    8\n",
    "\n",
    "    9\n",
    "\n",
    "    > Notice how it skips 6 and continues the loop\n"
   ]
  },
  {
   "cell_type": "code",
   "execution_count": 2,
   "metadata": {
    "vscode": {
     "languageId": "javascript"
    }
   },
   "outputs": [],
   "source": [
    "%%js\n",
    "for (let i = 0; i < 10; i++) {\n",
    "    if (i == 6) {\n",
    "      continue;\n",
    "    }\n",
    "    console.log(i);\n",
    "  }"
   ]
  },
  {
   "cell_type": "markdown",
   "metadata": {},
   "source": [
    "## For each loops\n",
    "\n",
    "    > We did this in the previous lesson loop through an array"
   ]
  },
  {
   "cell_type": "code",
   "execution_count": 3,
   "metadata": {
    "vscode": {
     "languageId": "javascript"
    }
   },
   "outputs": [],
   "source": [
    "%%js\n",
    "const colors = ['red','blue','yellow','green','black'];\n",
    "\n",
    "for (let i = 0; i < colors.length; i++){\n",
    "    console.log(colors[i]); \n",
    "}"
   ]
  },
  {
   "cell_type": "markdown",
   "metadata": {},
   "source": [
    "#### There is a different way to do this"
   ]
  },
  {
   "cell_type": "code",
   "execution_count": 4,
   "metadata": {
    "vscode": {
     "languageId": "javascript"
    }
   },
   "outputs": [],
   "source": [
    "%%js\n",
    "const colors = ['red','blue','yellow','green','black'];\n",
    "\n",
    "//color = i\n",
    "for (let color of colors) { //checks each element in the list\n",
    "    console.log(color); //prints each color\n",
    "}"
   ]
  },
  {
   "cell_type": "markdown",
   "metadata": {},
   "source": [
    "    > These blocks of code both have the same output \n",
    "\n",
    "### Output\n",
    "\n",
    "    red\n",
    "\n",
    "    blue\n",
    "\n",
    "    yellow\n",
    "\n",
    "    green\n",
    "\n",
    "    black"
   ]
  }
 ],
 "metadata": {
  "kernelspec": {
   "display_name": "Python 3",
   "language": "python",
   "name": "python3"
  },
  "language_info": {
   "codemirror_mode": {
    "name": "ipython",
    "version": 3
   },
   "file_extension": ".py",
   "mimetype": "text/x-python",
   "name": "python",
   "nbconvert_exporter": "python",
   "pygments_lexer": "ipython3",
   "version": "3.12.3"
  }
 },
 "nbformat": 4,
 "nbformat_minor": 2
}
