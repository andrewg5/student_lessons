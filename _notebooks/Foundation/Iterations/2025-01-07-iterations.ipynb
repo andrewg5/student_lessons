{
 "cells": [
  {
   "cell_type": "markdown",
   "metadata": {},
   "source": [
    "---\n",
    "comments: True\n",
    "layout: post\n",
    "title: Iteration Lesson No.1\n",
    "description: An intro to Iterations\n",
    "permalink: /csse/javascript/fundamentals/iteration/1\n",
    "categories: [CSSE JavaScript Fundamentals]\n",
    "author: Andrew Ge, Ishan Shrivastava, Pratheep Natarajan, and Ruhaan Bansal\n",
    "---  "
   ]
  },
  {
   "cell_type": "markdown",
   "metadata": {},
   "source": [
    "# Intro to iterations\n",
    "    > The basic gist of iterations are to repeat multiple actions for a desirable result\n",
    "    > Used to repeat code more efficiently compared to just writing out all the functions line by line"
   ]
  },
  {
   "cell_type": "markdown",
   "metadata": {},
   "source": [
    "# Structure of a basic iteration in javascript\n",
    "for (initialization; condition; increment) {\n",
    "    // Code to execute\n",
    "}\n",
    "\n",
    "\n",
    "## Variable explanations\n",
    "    > Initialization - The starting point of the loop control variable, only excecuted once\n",
    "    > Condition - This is the function that is checked BEFORE each iteration of the loop. If the condition is true, then the code is executed. If the condition is false, then the execution is terminated\n",
    "    > Increment - The main updater of the loop variable when the iteration ends; excecuted at the end of each loop cycle\n",
    "    > Code to execute - The code that you want to loop between the brackets"
   ]
  }
 ],
 "metadata": {
  "language_info": {
   "name": "python"
  }
 },
 "nbformat": 4,
 "nbformat_minor": 2
}
