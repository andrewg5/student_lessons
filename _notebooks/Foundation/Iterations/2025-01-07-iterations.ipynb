{
 "cells": [
  {
   "cell_type": "markdown",
   "metadata": {},
   "source": [
    "---\n",
    "comments: True\n",
    "layout: post\n",
    "title: Iteration Lesson No.1\n",
    "description: An intro to Iterations\n",
    "permalink: /csse/javascript/fundamentals/iteration/1\n",
    "categories: [CSSE JavaScript Fundamentals]\n",
    "author: Andrew Ge, Ishan Shrivastava, Pratheep Natarajan, and Ruhaan Bansal\n",
    "---  "
   ]
  },
  {
   "cell_type": "markdown",
   "metadata": {},
   "source": [
    "# Intro to iterations\n",
    "    > The basic gist of iterations are to repeat multiple actions for a desirable result\n",
    "    > Used to repeat code more efficiently compared to just writing out all the functions line by line"
   ]
  },
  {
   "cell_type": "markdown",
   "metadata": {},
   "source": [
    "# Structure of a basic iteration in javascript\n",
    "for (initialization; condition; increment) {\n",
    "    // Code to execute\n",
    "}\n",
    "\n",
    "\n",
    "## Variable explanations\n",
    "    > Initialization - The starting point of the loop control variable, only excecuted once\n",
    "    > Condition - This is the function that is checked BEFORE each iteration of the loop. If the condition is true, then the code is executed. If the condition is false, then the execution is terminated\n",
    "    > Increment - The main updater of the loop variable when the iteration ends; excecuted at the end of each loop cycle\n",
    "    > Code to execute - The code that you want to loop between the brackets"
   ]
  },
  {
   "cell_type": "markdown",
   "metadata": {},
   "source": [
    "# While Loops\n",
    "    > A control structure in programming which continuously repeats a block of code as long as the condition is true\n",
    "    > Useful when the number of iterations is unknown and mainly depends on runtime conditions"
   ]
  },
  {
   "cell_type": "markdown",
   "metadata": {},
   "source": [
    "## Example"
   ]
  },
  {
   "cell_type": "code",
   "execution_count": null,
   "metadata": {
    "vscode": {
     "languageId": "javascript"
    }
   },
   "outputs": [],
   "source": [
    "let count = 0;\n",
    "while (count < 5) {\n",
    "    console.log(count); // Prints numbers from 0 to 4\n",
    "    count++;\n",
    "}"
   ]
  },
  {
   "cell_type": "markdown",
   "metadata": {},
   "source": [
    "> Starts with the starting count being 0\n",
    "> We use the while loop to specify to the code what the loop boundaries are, which is (count < 5) \n",
    "> The result is a list of numbers that count n+1 until the value is an integer less than the boundary"
   ]
  }
 ],
 "metadata": {
  "language_info": {
   "name": "python"
  }
 },
 "nbformat": 4,
 "nbformat_minor": 2
}
