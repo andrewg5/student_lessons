{
 "cells": [
  {
   "cell_type": "markdown",
   "metadata": {},
   "source": [
    "---\n",
    "comments: True\n",
    "layout: post\n",
    "title: Iteration Homework\n",
    "description: Iterations HW\n",
    "permalink: /csse/javascript/fundamentals/iteration/hw\n",
    "categories: [CSSE JavaScript Fundamentals]\n",
    "author: Andrew Ge, Ishan Shrivastava, Pratheep Natarajan, and Ruhaan Bansal\n",
    "---  "
   ]
  },
  {
   "cell_type": "markdown",
   "metadata": {},
   "source": [
    "# Homework on Iterations in JavaScript"
   ]
  },
  {
   "cell_type": "markdown",
   "metadata": {},
   "source": [
    "##### Instructions:\n",
    "##### Complete the exercises below in JavaScript.\n",
    "##### You can run and test your code in a JavaScript environment."
   ]
  },
  {
   "cell_type": "markdown",
   "metadata": {},
   "source": [
    "### Exercise 1: Counting with a For Loop\n",
    "##### Write a JavaScript for loop that prints all numbers from 1 to 10."
   ]
  },
  {
   "cell_type": "markdown",
   "metadata": {},
   "source": [
    "##### Example:\n",
    "##### Output:\n",
    "##### 1\n",
    "##### 2\n",
    "##### 3\n",
    "##### ...\n",
    "##### 9 \n",
    "##### 10 "
   ]
  },
  {
   "cell_type": "code",
   "execution_count": null,
   "metadata": {
    "vscode": {
     "languageId": "javascript"
    }
   },
   "outputs": [
    {
     "data": {
      "application/javascript": "for (let i = 1; i <= 10; i++) {\n    console.log(i);\n}\n",
      "text/plain": [
       "<IPython.core.display.Javascript object>"
      ]
     },
     "metadata": {},
     "output_type": "display_data"
    }
   ],
   "source": []
  },
  {
   "cell_type": "markdown",
   "metadata": {},
   "source": [
    "### Exercise 2: Sum of Numbers\n",
    "##### Write a function in JavaScript to calculate the sum of all numbers from 1 to n using a loop."
   ]
  },
  {
   "cell_type": "markdown",
   "metadata": {},
   "source": [
    "##### Example:\n",
    "##### Input: 5\n",
    "##### Output: 15 (because 1 + 2 + 3 + 4 + 5 = 15)\n"
   ]
  },
  {
   "cell_type": "code",
   "execution_count": null,
   "metadata": {
    "vscode": {
     "languageId": "javascript"
    }
   },
   "outputs": [
    {
     "data": {
      "application/javascript": "function sumNumbers(n) {\n    let sum = 0;\n    for (let i = 1; i <= n; i++) {\n        sum += i;\n    }\n    return sum;\n}\nconsole.log(sumNumbers(5)); // Output should be 15\n",
      "text/plain": [
       "<IPython.core.display.Javascript object>"
      ]
     },
     "metadata": {},
     "output_type": "display_data"
    }
   ],
   "source": []
  },
  {
   "cell_type": "markdown",
   "metadata": {},
   "source": [
    "### Exercise 3: Looping through Arrays\n",
    "##### Write a JavaScript program to iterate through an array of names and print each name."
   ]
  },
  {
   "cell_type": "code",
   "execution_count": null,
   "metadata": {
    "vscode": {
     "languageId": "javascript"
    }
   },
   "outputs": [
    {
     "data": {
      "application/javascript": "const names = [\"Alice\", \"Bob\", \"Charlie\", \"Diana\"];\nfor (let i = 0; i < names.length; i++) {\n    console.log(names[i]);\n}\n",
      "text/plain": [
       "<IPython.core.display.Javascript object>"
      ]
     },
     "metadata": {},
     "output_type": "display_data"
    }
   ],
   "source": []
  },
  {
   "cell_type": "markdown",
   "metadata": {},
   "source": [
    "### Exercise 1: Multiplication Table\n",
    "##### Write a JavaScript program to print the multiplication table for a given number."
   ]
  },
  {
   "cell_type": "markdown",
   "metadata": {},
   "source": [
    "##### Example:\n",
    "##### Input: 3\n",
    "##### Output:\n",
    "##### 3 x 1 = 3\n",
    "##### 3 x 2 = 6\n",
    "##### ...\n",
    "##### 3 x 10 = 30"
   ]
  },
  {
   "cell_type": "code",
   "execution_count": null,
   "metadata": {
    "vscode": {
     "languageId": "javascript"
    }
   },
   "outputs": [
    {
     "data": {
      "application/javascript": "function multiplicationTable(number) {\n    for (let i = 1; i <= 10; i++) {\n        console.log(`${number} x ${i} = ${number * i}`);\n    }\n}\nmultiplicationTable(3);\n",
      "text/plain": [
       "<IPython.core.display.Javascript object>"
      ]
     },
     "metadata": {},
     "output_type": "display_data"
    }
   ],
   "source": []
  },
  {
   "cell_type": "markdown",
   "metadata": {},
   "source": [
    "### Exercise 2: Nested Loops\n",
    "##### Write a JavaScript program using nested loops to generate the following pattern:"
   ]
  },
  {
   "cell_type": "markdown",
   "metadata": {},
   "source": [
    "##### Output:\n",
    "##### *\n",
    "##### **\n",
    "##### ***\n",
    "##### ****\n",
    "##### *****"
   ]
  },
  {
   "cell_type": "code",
   "execution_count": null,
   "metadata": {
    "vscode": {
     "languageId": "javascript"
    }
   },
   "outputs": [
    {
     "data": {
      "application/javascript": "for (let i = 1; i <= 5; i++) {\n    let stars = \"\";\n    for (let j = 1; j <= i; j++) {\n        stars += \"*\";\n    }\n    console.log(stars);\n}\n",
      "text/plain": [
       "<IPython.core.display.Javascript object>"
      ]
     },
     "metadata": {},
     "output_type": "display_data"
    }
   ],
   "source": []
  },
  {
   "cell_type": "markdown",
   "metadata": {},
   "source": [
    "### Challenge Exercise: Prime Numbers\n",
    "##### Write a JavaScript program to print all prime numbers between 1 and 50."
   ]
  },
  {
   "cell_type": "code",
   "execution_count": null,
   "metadata": {
    "vscode": {
     "languageId": "javascript"
    }
   },
   "outputs": [
    {
     "data": {
      "application/javascript": "function isPrime(num) {\n    if (num <= 1) return false;\n    for (let i = 2; i <= Math.sqrt(num); i++) {\n        if (num % i === 0) return false;\n    }\n    return true;\n}\n\nfor (let i = 1; i <= 50; i++) {\n    if (isPrime(i)) {\n        console.log(i);\n    }\n}\n",
      "text/plain": [
       "<IPython.core.display.Javascript object>"
      ]
     },
     "metadata": {},
     "output_type": "display_data"
    }
   ],
   "source": []
  },
  {
   "cell_type": "markdown",
   "metadata": {},
   "source": [
    "# End of Homework"
   ]
  },
  {
   "cell_type": "markdown",
   "metadata": {},
   "source": [
    "---\n",
    "comments: True\n",
    "layout: post\n",
    "title: Iteration Lesson No.1\n",
    "description: An intro to Iterations\n",
    "permalink: /csse/javascript/fundamentals/iteration/1\n",
    "categories: [CSSE JavaScript Fundamentals]\n",
    "author: Andrew Ge, Ishan Shrivastava, Pratheep Natarajan, and Ruhaan Bansal\n",
    "---  "
   ]
  },
  {
   "cell_type": "markdown",
   "metadata": {},
   "source": [
    "# Intro to iterations\n",
    "    > The basic gist of iterations are to repeat multiple actions for a desirable result\n",
    "    > Used to repeat code more efficiently compared to just writing out all the functions line by line"
   ]
  },
  {
   "cell_type": "markdown",
   "metadata": {},
   "source": [
    "# Structure of a basic iteration in javascript\n",
    "for (initialization; condition; increment) {\n",
    "    // Code to execute\n",
    "}\n",
    "\n",
    "\n",
    "## Variable explanations\n",
    "    > Initialization - The starting point of the loop control variable, only excecuted once\n",
    "    > Condition - This is the function that is checked BEFORE each iteration of the loop. If the condition is true, then the code is executed. If the condition is false, then the execution is terminated\n",
    "    > Increment - The main updater of the loop variable when the iteration ends; excecuted at the end of each loop cycle\n",
    "    > Code to execute - The code that you want to loop between the brackets"
   ]
  },
  {
   "cell_type": "markdown",
   "metadata": {},
   "source": [
    "# While Loops\n",
    "    > A control structure in programming which continuously repeats a block of code as long as the condition is true\n",
    "    > Useful when the number of iterations is unknown and mainly depends on runtime conditions"
   ]
  },
  {
   "cell_type": "markdown",
   "metadata": {},
   "source": [
    "## Example"
   ]
  },
  {
   "cell_type": "code",
   "execution_count": null,
   "metadata": {
    "vscode": {
     "languageId": "javascript"
    }
   },
   "outputs": [],
   "source": [
    "let count = 0;\n",
    "while (count < 5) {\n",
    "    console.log(count); // Prints numbers from 0 to 4\n",
    "    count++;\n",
    "}"
   ]
  },
  {
   "cell_type": "markdown",
   "metadata": {},
   "source": [
    "> Starts with the starting count being 0\n",
    "> We use the while loop to specify to the code what the loop boundaries are, which is (count < 5) \n",
    "> The result is a list of numbers that count n+1 until the value is an integer less than the boundary"
   ]
  }
 ],
 "metadata": {
  "language_info": {
   "name": "python"
  }
 },
 "nbformat": 4,
 "nbformat_minor": 2
}
