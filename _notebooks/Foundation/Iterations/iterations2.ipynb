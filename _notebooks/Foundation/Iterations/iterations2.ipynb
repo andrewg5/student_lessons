{
 "cells": [
  {
   "cell_type": "markdown",
   "metadata": {},
   "source": [
    "## The Break Statement\n",
    "\n",
    "<li> use it to terminate a loop/switch\n",
    "\n",
    "\n",
    "\n",
    "<br>\n",
    "<br>\n",
    "<br>\n",
    "\n",
    "\n",
    "### Example"
   ]
  },
  {
   "cell_type": "code",
   "execution_count": null,
   "metadata": {
    "vscode": {
     "languageId": "javascript"
    }
   },
   "outputs": [],
   "source": [
    "for (let i = 0; i < 10; i++) {\n",
    "  if (i == 6) {\n",
    "    break;\n",
    "  }\n",
    "  console.log(i);\n",
    "}"
   ]
  },
  {
   "cell_type": "markdown",
   "metadata": {},
   "source": [
    "### Output\n",
    "0 <br>\n",
    "1 <br>\n",
    "2 <br>\n",
    "3 <br>\n",
    "4 <br>\n",
    "5 <br>\n",
    "\n",
    "When i = 6, the break statement is run, and it ends the loop early"
   ]
  },
  {
   "cell_type": "markdown",
   "metadata": {},
   "source": [
    "## Continue Statement\n",
    "\n",
    "used to restart a while or for loop\n",
    "<li>when used,  ends the current iteration, and continues the next iteration"
   ]
  },
  {
   "cell_type": "code",
   "execution_count": null,
   "metadata": {
    "vscode": {
     "languageId": "javascript"
    }
   },
   "outputs": [],
   "source": [
    "for (let i = 0; i < 10; i++) {\n",
    "    if (i == 6) {\n",
    "      continue;\n",
    "    }\n",
    "    console.log(i);\n",
    "  }"
   ]
  },
  {
   "cell_type": "markdown",
   "metadata": {},
   "source": [
    "### Output\n",
    "0<br>\n",
    "1<br>\n",
    "2<br>\n",
    "3<br>\n",
    "4<br>\n",
    "5<br>\n",
    "7<br>\n",
    "8<br>\n",
    "9<br>\n",
    "\n",
    "Notice how it skips 6 and continues the loop\n"
   ]
  },
  {
   "cell_type": "markdown",
   "metadata": {},
   "source": [
    "## For each loops\n",
    "\n",
    "We did this in the previous lesson\n",
    "loop through an array"
   ]
  },
  {
   "cell_type": "code",
   "execution_count": null,
   "metadata": {
    "vscode": {
     "languageId": "javascript"
    }
   },
   "outputs": [],
   "source": [
    "const colors = ['red','blue','yellow','green','black'];\n",
    "\n",
    "for (let i = 0; i < colors.length; i++){\n",
    "    console.log(colors[i]); \n",
    "}"
   ]
  },
  {
   "cell_type": "markdown",
   "metadata": {},
   "source": [
    "Theres a different way to do this"
   ]
  },
  {
   "cell_type": "code",
   "execution_count": null,
   "metadata": {
    "vscode": {
     "languageId": "javascript"
    }
   },
   "outputs": [],
   "source": [
    "const colors = ['red','blue','yellow','green','black'];\n",
    "\n",
    "//color = i\n",
    "for (let color of colors) { //checks each element in the list\n",
    "    console.log(color); //prints each color\n",
    "}"
   ]
  },
  {
   "cell_type": "markdown",
   "metadata": {},
   "source": [
    "These blocks of code both have the same output \n",
    "\n",
    "### Output\n",
    "red <br>\n",
    "blue <br>\n",
    "yellow <br>\n",
    "green <br>\n",
    "black <br>"
   ]
  }
 ],
 "metadata": {
  "language_info": {
   "name": "python"
  }
 },
 "nbformat": 4,
 "nbformat_minor": 2
}
